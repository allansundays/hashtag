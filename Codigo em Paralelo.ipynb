{
 "cells": [
  {
   "cell_type": "markdown",
   "metadata": {},
   "source": [
    "# Rodar Código em paralelo"
   ]
  },
  {
   "cell_type": "markdown",
   "metadata": {},
   "source": [
    "link do video: https://www.youtube.com/watch?v=maj47xd_R7g"
   ]
  },
  {
   "cell_type": "markdown",
   "metadata": {},
   "source": [
    "- Jeito Tradicional:"
   ]
  },
  {
   "cell_type": "code",
   "execution_count": 3,
   "metadata": {},
   "outputs": [
    {
     "name": "stdout",
     "output_type": "stream",
     "text": [
      "Faturamento da Loja Iguatemi Campinas foi de R$149,959.00\n",
      "Faturamento da Loja Iguatemi Esplanada foi de R$103,342.00\n",
      "Faturamento da Loja Norte Shopping foi de R$101,491.00\n",
      "Faturamento da Loja Novo Shopping Ribeirão Preto foi de R$99,703.00\n",
      "Faturamento da Loja Palladium Shopping Curitiba foi de R$120,621.00\n",
      "Faturamento da Loja Parque Dom Pedro Shopping foi de R$122,055.00\n",
      "Faturamento da Loja Passei das Águas Shopping foi de R$112,089.00\n",
      "Faturamento da Loja Ribeirão Shopping foi de R$112,936.00\n",
      "Faturamento da Loja Rio Mar Recife foi de R$139,869.00\n",
      "Faturamento da Loja Rio Mar Shopping Fortaleza foi de R$127,890.00\n",
      "Faturamento da Loja Salvador Shopping foi de R$129,156.00\n",
      "Faturamento da Loja Shopping Barra foi de R$103,148.00\n",
      "Faturamento da Loja Shopping Center Interlagos foi de R$103,821.00\n",
      "Faturamento da Loja Shopping Center Leste Aricanduva foi de R$86,156.00\n",
      "Faturamento da Loja Shopping Eldorado foi de R$124,339.00\n",
      "Faturamento da Loja Shopping Ibirapuera foi de R$107,907.00\n",
      "Faturamento da Loja Shopping Iguatemi Fortaleza foi de R$124,182.00\n",
      "Faturamento da Loja Shopping Midway Mall foi de R$105,269.00\n",
      "Faturamento da Loja Shopping Morumbi foi de R$117,936.00\n",
      "Faturamento da Loja Shopping Recife foi de R$131,871.00\n",
      "Faturamento da Loja Shopping SP Market foi de R$110,833.00\n",
      "Faturamento da Loja Shopping União de Osasco foi de R$116,032.00\n",
      "Faturamento da Loja Shopping Vila Velha foi de R$115,896.00\n",
      "Demorou: 1.1703698635101318\n"
     ]
    }
   ],
   "source": [
    "import requests\n",
    "import time\n",
    "import os\n",
    "import pandas as pd\n",
    "\n",
    "tempo_inicial = time.time()\n",
    "\n",
    "arquivos = os.listdir()\n",
    "\n",
    "tabela_final = pd.DataFrame()\n",
    "for arquivo in arquivos:\n",
    "    if \"xlsx\" in arquivo:\n",
    "        tabela = pd.read_excel(arquivo)\n",
    "        faturamento = tabela[\"Valor Final\"].sum()\n",
    "        print(f\"Faturamento da Loja {arquivo.replace('.xlsx', '')} foi de R${faturamento:,.2f}\")\n",
    "        \n",
    "print(f\"Demorou: {time.time() - tempo_inicial}\")"
   ]
  },
  {
   "cell_type": "code",
   "execution_count": 4,
   "metadata": {},
   "outputs": [
    {
     "name": "stdout",
     "output_type": "stream",
     "text": [
      "Requirement already satisfied: joblib in c:\\users\\allan\\anaconda3\\envs\\aula\\lib\\site-packages (1.0.1)\n"
     ]
    }
   ],
   "source": [
    "# Installar biblioteca\n",
    "!pip install joblib"
   ]
  },
  {
   "cell_type": "markdown",
   "metadata": {},
   "source": [
    "# Código em paralelo"
   ]
  },
  {
   "cell_type": "code",
   "execution_count": 6,
   "metadata": {},
   "outputs": [
    {
     "name": "stdout",
     "output_type": "stream",
     "text": [
      "[None, None, 'Faturamento da Loja Iguatemi Campinas foi de R$149,959.00', 'Faturamento da Loja Iguatemi Esplanada foi de R$103,342.00', 'Faturamento da Loja Norte Shopping foi de R$101,491.00', 'Faturamento da Loja Novo Shopping Ribeirão Preto foi de R$99,703.00', 'Faturamento da Loja Palladium Shopping Curitiba foi de R$120,621.00', 'Faturamento da Loja Parque Dom Pedro Shopping foi de R$122,055.00', 'Faturamento da Loja Passei das Águas Shopping foi de R$112,089.00', 'Faturamento da Loja Ribeirão Shopping foi de R$112,936.00', 'Faturamento da Loja Rio Mar Recife foi de R$139,869.00', 'Faturamento da Loja Rio Mar Shopping Fortaleza foi de R$127,890.00', 'Faturamento da Loja Salvador Shopping foi de R$129,156.00', 'Faturamento da Loja Shopping Barra foi de R$103,148.00', 'Faturamento da Loja Shopping Center Interlagos foi de R$103,821.00', 'Faturamento da Loja Shopping Center Leste Aricanduva foi de R$86,156.00', 'Faturamento da Loja Shopping Eldorado foi de R$124,339.00', 'Faturamento da Loja Shopping Ibirapuera foi de R$107,907.00', 'Faturamento da Loja Shopping Iguatemi Fortaleza foi de R$124,182.00', 'Faturamento da Loja Shopping Midway Mall foi de R$105,269.00', 'Faturamento da Loja Shopping Morumbi foi de R$117,936.00', 'Faturamento da Loja Shopping Recife foi de R$131,871.00', 'Faturamento da Loja Shopping SP Market foi de R$110,833.00', 'Faturamento da Loja Shopping União de Osasco foi de R$116,032.00', 'Faturamento da Loja Shopping Vila Velha foi de R$115,896.00']\n",
      "Demorou: 0.8896076679229736\n"
     ]
    }
   ],
   "source": [
    "from joblib import Parallel, delayed\n",
    "\n",
    "tempo_inicial = time.time()\n",
    "\n",
    "arquivos = os.listdir()\n",
    "\n",
    "# troca o for por um função que recebe o arquivo\n",
    "# não dá pra printar em paralelo, utilizar o return\n",
    "def calcular_faturamento(arquivo):\n",
    "    if \"xlsx\" in arquivo:\n",
    "        tabela = pd.read_excel(arquivo)\n",
    "        faturamento = tabela[\"Valor Final\"].sum()\n",
    "        return f\"Faturamento da Loja {arquivo.replace('.xlsx', '')} foi de R${faturamento:,.2f}\"\n",
    "        \n",
    "resultado = Parallel(n_jobs=2)(delayed(calcular_faturamento)(arquivo) for arquivo in arquivos) \n",
    "# n_jobs = quantidade de nucleos do seu pc, se na duvida sobre quantos seu pc tem, passar o param -1\n",
    "print(resultado)\n",
    "print(f\"Demorou: {time.time() - tempo_inicial}\")"
   ]
  },
  {
   "cell_type": "code",
   "execution_count": null,
   "metadata": {},
   "outputs": [],
   "source": []
  }
 ],
 "metadata": {
  "kernelspec": {
   "display_name": "Python 3",
   "language": "python",
   "name": "python3"
  },
  "language_info": {
   "codemirror_mode": {
    "name": "ipython",
    "version": 3
   },
   "file_extension": ".py",
   "mimetype": "text/x-python",
   "name": "python",
   "nbconvert_exporter": "python",
   "pygments_lexer": "ipython3",
   "version": "3.9.4"
  }
 },
 "nbformat": 4,
 "nbformat_minor": 4
}
